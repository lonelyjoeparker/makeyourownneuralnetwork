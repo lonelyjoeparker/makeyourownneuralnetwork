{
 "metadata": {
  "kernelspec": {
   "display_name": "Python 2",
   "language": "python",
   "name": "python2"
  },
  "language_info": {
   "codemirror_mode": {
    "name": "ipython",
    "version": 2
   },
   "file_extension": ".py",
   "mimetype": "text/x-python",
   "name": "python",
   "nbconvert_exporter": "python",
   "pygments_lexer": "ipython2",
   "version": "2.7.9"
  },
  "name": "",
  "signature": "sha256:85f872dfca88fd4346934611be7a22c8f24bda075a17104f8c4b966b8119bf3b"
 },
 "nbformat": 3,
 "nbformat_minor": 0,
 "worksheets": [
  {
   "cells": [
    {
     "cell_type": "code",
     "collapsed": false,
     "input": [
      "import numpy, scipy.special, matplotlib.pyplot\n",
      "print(numpy.zeros([3,3]))"
     ],
     "language": "python",
     "metadata": {},
     "outputs": [
      {
       "output_type": "stream",
       "stream": "stdout",
       "text": [
        "[[ 0.  0.  0.]\n",
        " [ 0.  0.  0.]\n",
        " [ 0.  0.  0.]]\n"
       ]
      }
     ],
     "prompt_number": 2
    },
    {
     "cell_type": "code",
     "collapsed": false,
     "input": [
      "%matplotlib inline\n",
      "a = numpy.zeros([3,3,3])\n",
      "a[0,1,2]=2\n",
      "print(a)"
     ],
     "language": "python",
     "metadata": {},
     "outputs": [
      {
       "output_type": "stream",
       "stream": "stdout",
       "text": [
        "[[[ 0.  0.  0.]\n",
        "  [ 0.  0.  2.]\n",
        "  [ 0.  0.  0.]]\n",
        "\n",
        " [[ 0.  0.  0.]\n",
        "  [ 0.  0.  0.]\n",
        "  [ 0.  0.  0.]]\n",
        "\n",
        " [[ 0.  0.  0.]\n",
        "  [ 0.  0.  0.]\n",
        "  [ 0.  0.  0.]]]\n"
       ]
      }
     ],
     "prompt_number": 3
    },
    {
     "cell_type": "code",
     "collapsed": false,
     "input": [
      "class Dog:\n",
      "\n",
      "   def __init__(self,petname,temp):\n",
      "        self.name=petname\n",
      "        self.temp=temp\n",
      "        \n",
      "   def bark(self):\n",
      "       print(\"{}: woof [{}\u00ba]\").format(self.name,self.temp)\n",
      "       pass\n",
      "   \n",
      "   def getTemp(self):\n",
      "        return(self.temp)\n",
      "\n",
      "   def setTemp(self,newtemp):\n",
      "        self.temp = newtemp\n",
      "    \n",
      "   pass\n",
      "   \n",
      "bonso = Dog('bonso',34)\n",
      "bonso.bark()\n",
      "print(bonso.getTemp())\n",
      "bonso.setTemp(999)\n",
      "print(bonso.getTemp())"
     ],
     "language": "python",
     "metadata": {},
     "outputs": [
      {
       "output_type": "stream",
       "stream": "stdout",
       "text": [
        "bonso: woof [34\u00ba]\n",
        "34\n",
        "999\n"
       ]
      }
     ],
     "prompt_number": 4
    },
    {
     "cell_type": "code",
     "collapsed": false,
     "input": [
      "# OK: start a network\n",
      "\n",
      "class neuralNetwork:\n",
      "    \n",
      "    #initialise\n",
      "    def __init__(self, inputnodes,hiddennodes,outputnodes,learningrate):\n",
      "        self.inodes = inputnodes\n",
      "        self.hnodes = hiddennodes\n",
      "        self.onodes = outputnodes\n",
      "        self.lr = learningrate\n",
      "        self.wih = numpy.random.normal(0.0,pow(self.hnodes,-0.5),(self.hnodes,self.inodes))\n",
      "        self.who = numpy.random.normal(0.0,pow(self.onodes,-0.5),(self.onodes,self.hnodes))\n",
      "        self.activation_function = lambda x: scipy.special.expit(x)\n",
      "        pass\n",
      "    \n",
      "    #train it\n",
      "    def train(self, inputs_list, targets_list):\n",
      "        inputs = numpy.array(inputs_list, ndmin=2) .T\n",
      "        targets = numpy.array(targets_list, ndmin=2) .T\n",
      "        \n",
      "        hidden_inputs = numpy.dot(self.wih,inputs)\n",
      "        hidden_outputs = self.activation_function(hidden_inputs)\n",
      "\n",
      "        final_inputs = numpy.dot(self.who,hidden_outputs)\n",
      "        final_outputs = self.activation_function(final_inputs)\n",
      "        \n",
      "        #errors\n",
      "        output_errors = targets - final_outputs\n",
      "        hidden_errors = numpy.dot(self.who.T, output_errors)\n",
      "        \n",
      "        #update\n",
      "        self.who += self.lr * numpy.dot((output_errors * final_outputs * (1-final_outputs)),numpy.transpose(hidden_outputs))\n",
      "        self.wih += self.lr * numpy.dot((hidden_errors * hidden_outputs * (1-hidden_outputs)),numpy.transpose(inputs))\n",
      "        pass\n",
      "    \n",
      "    #test it with data\n",
      "    def query(self, inputs_list):\n",
      "        inputs = numpy.array(inputs_list, ndmin=2) .T\n",
      "        \n",
      "        hidden_inputs = numpy.dot(self.wih,inputs)\n",
      "        hidden_outputs = self.activation_function(hidden_inputs)\n",
      "\n",
      "        final_inputs = numpy.dot(self.who,hidden_outputs)\n",
      "        final_outputs = self.activation_function(final_inputs)\n",
      "        \n",
      "        return final_outputs\n",
      "    \n",
      "# do something\n",
      "n = neuralNetwork(3,3,3,0.3)\n",
      "n.query((1,10,100))"
     ],
     "language": "python",
     "metadata": {
      "scrolled": true
     },
     "outputs": [
      {
       "metadata": {},
       "output_type": "pyout",
       "prompt_number": 5,
       "text": [
        "array([[ 0.59037756],\n",
        "       [ 0.6736314 ],\n",
        "       [ 0.4568154 ]])"
       ]
      }
     ],
     "prompt_number": 5
    },
    {
     "cell_type": "code",
     "collapsed": false,
     "input": [
      "data_file = open(\"mnist_dataset/mnist_train.csv\",'r')\n",
      "data_list = data_file.readlines()\n",
      "data_file.close()\n",
      "data_list[0]"
     ],
     "language": "python",
     "metadata": {},
     "outputs": [
      {
       "metadata": {},
       "output_type": "pyout",
       "prompt_number": 6,
       "text": [
        "'5,0,0,0,0,0,0,0,0,0,0,0,0,0,0,0,0,0,0,0,0,0,0,0,0,0,0,0,0,0,0,0,0,0,0,0,0,0,0,0,0,0,0,0,0,0,0,0,0,0,0,0,0,0,0,0,0,0,0,0,0,0,0,0,0,0,0,0,0,0,0,0,0,0,0,0,0,0,0,0,0,0,0,0,0,0,0,0,0,0,0,0,0,0,0,0,0,0,0,0,0,0,0,0,0,0,0,0,0,0,0,0,0,0,0,0,0,0,0,0,0,0,0,0,0,0,0,0,0,0,0,0,0,0,0,0,0,0,0,0,0,0,0,0,0,0,0,0,0,0,0,0,0,3,18,18,18,126,136,175,26,166,255,247,127,0,0,0,0,0,0,0,0,0,0,0,0,30,36,94,154,170,253,253,253,253,253,225,172,253,242,195,64,0,0,0,0,0,0,0,0,0,0,0,49,238,253,253,253,253,253,253,253,253,251,93,82,82,56,39,0,0,0,0,0,0,0,0,0,0,0,0,18,219,253,253,253,253,253,198,182,247,241,0,0,0,0,0,0,0,0,0,0,0,0,0,0,0,0,0,0,80,156,107,253,253,205,11,0,43,154,0,0,0,0,0,0,0,0,0,0,0,0,0,0,0,0,0,0,0,14,1,154,253,90,0,0,0,0,0,0,0,0,0,0,0,0,0,0,0,0,0,0,0,0,0,0,0,0,0,139,253,190,2,0,0,0,0,0,0,0,0,0,0,0,0,0,0,0,0,0,0,0,0,0,0,0,0,11,190,253,70,0,0,0,0,0,0,0,0,0,0,0,0,0,0,0,0,0,0,0,0,0,0,0,0,0,35,241,225,160,108,1,0,0,0,0,0,0,0,0,0,0,0,0,0,0,0,0,0,0,0,0,0,0,0,81,240,253,253,119,25,0,0,0,0,0,0,0,0,0,0,0,0,0,0,0,0,0,0,0,0,0,0,0,45,186,253,253,150,27,0,0,0,0,0,0,0,0,0,0,0,0,0,0,0,0,0,0,0,0,0,0,0,16,93,252,253,187,0,0,0,0,0,0,0,0,0,0,0,0,0,0,0,0,0,0,0,0,0,0,0,0,0,249,253,249,64,0,0,0,0,0,0,0,0,0,0,0,0,0,0,0,0,0,0,0,0,0,46,130,183,253,253,207,2,0,0,0,0,0,0,0,0,0,0,0,0,0,0,0,0,0,0,0,39,148,229,253,253,253,250,182,0,0,0,0,0,0,0,0,0,0,0,0,0,0,0,0,0,0,24,114,221,253,253,253,253,201,78,0,0,0,0,0,0,0,0,0,0,0,0,0,0,0,0,0,23,66,213,253,253,253,253,198,81,2,0,0,0,0,0,0,0,0,0,0,0,0,0,0,0,0,18,171,219,253,253,253,253,195,80,9,0,0,0,0,0,0,0,0,0,0,0,0,0,0,0,0,55,172,226,253,253,253,253,244,133,11,0,0,0,0,0,0,0,0,0,0,0,0,0,0,0,0,0,0,136,253,253,253,212,135,132,16,0,0,0,0,0,0,0,0,0,0,0,0,0,0,0,0,0,0,0,0,0,0,0,0,0,0,0,0,0,0,0,0,0,0,0,0,0,0,0,0,0,0,0,0,0,0,0,0,0,0,0,0,0,0,0,0,0,0,0,0,0,0,0,0,0,0,0,0,0,0,0,0,0,0,0,0,0,0,0,0,0,0,0,0,0,0,0,0,0,0,0,0,0,0,0,0,0,0,0,0\\n'"
       ]
      }
     ],
     "prompt_number": 6
    },
    {
     "cell_type": "code",
     "collapsed": false,
     "input": [
      "all_values = data_list[1].split(',')\n",
      "img_array=numpy.asfarray(all_values[1:]).reshape((28,28))\n",
      "#matplotlib.pyplot.imshow(img_array,cmap=\"Greys\",interpolation=\"none\")\n",
      "scaled_input=(numpy.asfarray(all_values[1:]) / (255.0 * 0.99)) + 0.01\n",
      "#print(scaled_input)\n",
      "max(scaled_input)\n"
     ],
     "language": "python",
     "metadata": {},
     "outputs": [
      {
       "metadata": {},
       "output_type": "pyout",
       "prompt_number": 7,
       "text": [
        "1.0201010101010102"
       ]
      }
     ],
     "prompt_number": 7
    },
    {
     "cell_type": "code",
     "collapsed": false,
     "input": [
      "# output nodes\n",
      "onodes = 10\n",
      "targets = numpy.zeros(onodes) + 0.01\n",
      "targets[int(all_values[0])]=0.99\n",
      "print(targets)"
     ],
     "language": "python",
     "metadata": {},
     "outputs": [
      {
       "output_type": "stream",
       "stream": "stdout",
       "text": [
        "[ 0.99  0.01  0.01  0.01  0.01  0.01  0.01  0.01  0.01  0.01]\n"
       ]
      }
     ],
     "prompt_number": 8
    },
    {
     "cell_type": "code",
     "collapsed": false,
     "input": [
      "#try it \n",
      "onodes = 10\n",
      "n = neuralNetwork(784,100,onodes,0.3)\n",
      "\n",
      "# load training\n",
      "# wget http://pjreddie.com/media/files/mnist_train.csv\n",
      "training_data_file = open(\"mnist_dataset/mnist_train.csv\",'r')\n",
      "training_data_list = training_data_file.readlines()\n",
      "training_data_file.close()\n",
      "\n",
      "# train\n",
      "for record in training_data_list:\n",
      "    all_values = record.split(',')\n",
      "    inputs = (numpy.asfarray(all_values[1:]) / (255.0 * 0.99)) + 0.01\n",
      "    targets = numpy.zeros(onodes) + 0.01\n",
      "    targets[int(all_values[0])]=0.99\n",
      "    n.train(inputs,targets)\n",
      "    pass\n",
      "\n",
      "#load test\n",
      "# wget http://pjreddie.com/media/files/mnist_test.csv\n",
      "test_data_file = open(\"mnist_dataset/mnist_test.csv\",'r')\n",
      "test_data_list = test_data_file.readlines()\n",
      "test_data_file.close()\n",
      "\n",
      "#test once\n",
      "#print(test_data_list[0].split(','))\n",
      "\n"
     ],
     "language": "python",
     "metadata": {},
     "outputs": [],
     "prompt_number": 84
    },
    {
     "cell_type": "code",
     "collapsed": false,
     "input": [
      "all_values = test_data_list[102].split(',')\n",
      "print('real:\\t'+all_values[0])\n",
      "single_out = n.query((numpy.asfarray(all_values[1:]) / (255.0 * 0.99)) + 0.01)\n",
      "#print(type(single_out))\n",
      "glyph=0\n",
      "for guesses in single_out:\n",
      "    print(glyph,\"    \",'{:.3f}'.format(float(guesses)))\n",
      "    glyph+=1\n",
      "    pass\n",
      "print(sum(single_out))"
     ],
     "language": "python",
     "metadata": {},
     "outputs": [
      {
       "output_type": "stream",
       "stream": "stdout",
       "text": [
        "real:\t5\n",
        "(0, '    ', '0.006')\n",
        "(1, '    ', '0.000')\n",
        "(2, '    ', '0.000')\n",
        "(3, '    ', '0.005')\n",
        "(4, '    ', '0.000')\n",
        "(5, '    ', '0.984')\n",
        "(6, '    ', '0.000')\n",
        "(7, '    ', '0.013')\n",
        "(8, '    ', '0.004')\n",
        "(9, '    ', '0.004')\n",
        "[ 1.01677999]\n"
       ]
      }
     ],
     "prompt_number": 74
    },
    {
     "cell_type": "code",
     "collapsed": false,
     "input": [
      "# test the performance \n",
      "\n",
      "scores = []\n",
      "\n",
      "for record in test_data_list:\n",
      "    all_values = record.split(',')\n",
      "    answer = int(all_values[0])\n",
      "    inputs = (numpy.asfarray(all_values[1:]) / (255.0 * 0.99)) + 0.01\n",
      "    output = n.query(inputs)\n",
      "    guess = numpy.argmax(output)\n",
      "    if(guess == answer):\n",
      "        scores.append(1)\n",
      "    else:\n",
      "        scores.append(0)\n",
      "        pass\n",
      "    pass\n",
      "\n",
      "score_array = numpy.asarray(scores)\n",
      "hits = score_array.sum() + 0.0\n",
      "trials = score_array.size + 0.0\n",
      "\n",
      "print(\"performance = \", (hits / trials))"
     ],
     "language": "python",
     "metadata": {},
     "outputs": [
      {
       "output_type": "stream",
       "stream": "stdout",
       "text": [
        "('performance = ', 0.92249999999999999)\n"
       ]
      }
     ],
     "prompt_number": 85
    },
    {
     "cell_type": "code",
     "collapsed": false,
     "input": [
      "#  inspect the weight matrices' dimensions\n",
      "# comment out for now..\n",
      "# weight matrices are (n * m )\n",
      "# where:\n",
      "#    n = nodes in layer l\n",
      "#    m = nodes in layer l+1\n",
      "#\n",
      "#print(type(n.wih))\n",
      "#print(n.wih)\n",
      "print(n.wih.size)\n",
      "#print(type(n.wih[0]))\n",
      "#print(n.wih[0])\n",
      "print(n.wih[0].size)"
     ],
     "language": "python",
     "metadata": {},
     "outputs": [
      {
       "output_type": "stream",
       "stream": "stdout",
       "text": [
        "78400\n",
        "784\n"
       ]
      }
     ],
     "prompt_number": 68
    },
    {
     "cell_type": "code",
     "collapsed": false,
     "input": [
      "#try it (neural network, three layers hardcoded)\n",
      "onodes = 10\n",
      "n = neuralNetwork(784,100,onodes,0.3)\n",
      "\n",
      "# load training\n",
      "# wget http://pjreddie.com/media/files/mnist_train.csv\n",
      "training_data_file = open(\"mnist_dataset/mnist_train.csv\",'r')\n",
      "training_data_list = training_data_file.readlines()\n",
      "training_data_file.close()\n",
      "\n",
      "# train\n",
      "for record in training_data_list:\n",
      "    all_values = record.split(',')\n",
      "    inputs = (numpy.asfarray(all_values[1:]) / (255.0 * 0.99)) + 0.01\n",
      "    targets = numpy.zeros(onodes) + 0.01\n",
      "    targets[int(all_values[0])]=0.99\n",
      "    n.train(inputs,targets)\n",
      "    pass\n",
      "\n",
      "#load test\n",
      "# wget http://pjreddie.com/media/files/mnist_test.csv\n",
      "test_data_file = open(\"mnist_dataset/mnist_test.csv\",'r')\n",
      "test_data_list = test_data_file.readlines()\n",
      "test_data_file.close()\n",
      "\n",
      "# test the performance \n",
      "scores = []\n",
      "\n",
      "for record in test_data_list:\n",
      "    all_values = record.split(',')\n",
      "    answer = int(all_values[0])\n",
      "    inputs = (numpy.asfarray(all_values[1:]) / (255.0 * 0.99)) + 0.01\n",
      "    output = n.query(inputs)\n",
      "    guess = numpy.argmax(output)\n",
      "    if(guess == answer):\n",
      "        scores.append(1)\n",
      "    else:\n",
      "        scores.append(0)\n",
      "        pass\n",
      "    pass\n",
      "\n",
      "score_array = numpy.asarray(scores)\n",
      "hits = score_array.sum() + 0.0\n",
      "trials = score_array.size + 0.0\n",
      "\n",
      "print(\"performance = \", (hits / trials))"
     ],
     "language": "python",
     "metadata": {},
     "outputs": [
      {
       "output_type": "stream",
       "stream": "stdout",
       "text": [
        "('performance = ', 0.92149999999999999)\n"
       ]
      }
     ],
     "prompt_number": 158
    },
    {
     "cell_type": "code",
     "collapsed": false,
     "input": [
      "# make a general node\n",
      "class generalNodeLayer:\n",
      "    def __init__(self,learningrate,order):\n",
      "        # these can be initialised now\n",
      "        self.node_count = order\n",
      "        self.lr = learningrate\n",
      "        self.activation_function = lambda x: scipy.special.expit(x)\n",
      "\n",
      "        # these are empty for now, they will be initialised later\n",
      "        self.inputs_i  = []\n",
      "        self.outputs_i = []\n",
      "        self.weights_j = []\n",
      "        self.errors_i  = []\n",
      "        self.errors_j  = []\n",
      "\n",
      "        # this can be assigned for all nodes, but will be meaningless in the case of input layer[0] nodes.\n",
      "        # to be simple we'll initialise empty now and call an init_weights method. this isn't safe but we're in a hurry...\n",
      "        self.weights_i = []\n",
      "        pass\n",
      "    \n",
      "   #assign weights at the start\n",
      "    def assignStartingWeights(self,previous_node_order):\n",
      "        self.weights_i = numpy.random.normal(0.0,pow(self.node_count,-0.5),(self.node_count,previous_node_order))\n",
      "        pass\n",
      "    \n",
      "    # propagate forwards from input\n",
      "    def query(self, previous_node_inputs):\n",
      "        self.inputs_i = numpy.dot(self.weights_i,previous_node_inputs)\n",
      "        self.outputs_i = self.activation_function(self.inputs_i)\n",
      "        return(self.outputs_i)\n",
      "    \n",
      "    # backpropagate error\n",
      "    def calculateErrors(self,node_j):\n",
      "        # get the following node layer's params\n",
      "        self.errors_j = node_j.errors_i\n",
      "        self.weights_j = node_j.weights_i\n",
      "        self.outputs_j = node_j.outputs_i\n",
      "        # update this layer's error\n",
      "        self.errors_i = numpy.dot(self.weights_j.T, self.errors_j)\n",
      "        pass\n",
      "    \n",
      "    # update weights\n",
      "    def trainWeights(self,node_k):\n",
      "        # get the following node layer's params\n",
      "        previous_node_inputs = node_k.outputs_i\n",
      "        # update function\n",
      "        self.weights_i += self.lr * numpy.dot((self.errors_i * self.outputs_i * (1-self.outputs_i)),numpy.transpose(previous_node_inputs))\n",
      "        pass\n",
      "  \n",
      "        \n",
      "# general network needs only number of notes in each layer and learning rate\n",
      "# init is essentially a question of populating the weights with random values*, with dimensions as appropriate\n",
      "#\n",
      "# NB - it is VITAL that the 'random weight' allocation happens only once in init()\n",
      "# i.e., the weights are unchanged for a concrete nodeLayer by weight-update step in successive train() steps\n",
      "\n",
      "# then:\n",
      "\n",
      "#  train() will FIRST iteratively populate the nodeLayers[i] FORWARD from i==0 to i==k\n",
      "#  noting that:\n",
      "#     - the 'outputs' of i==0 are the global inputs\n",
      "#     - values Xi of node i are Wi.Ii\n",
      "#     - outputs Oi of i are S(Xi)\n",
      "#     - this step of train is equivalent to the query() procedure, so we could just run that...\n",
      "\n",
      "#  THEN train() will iteratatively calculate errors and update weights BACK from i==k to i==0\n",
      "#  noting that:\n",
      "#     - 'errors' of i=k are global_target - Ok\n",
      "#     - errors Ei = Wj(T).Ej\n",
      "#     - updates to Wi dWi are lr * ([Ej*Oj*(1-Oj)].Oi(T))\n",
      "\n",
      "\n",
      "\n",
      "node_a = generalNodeLayer(0.3,3)\n",
      "node_a.inputs_i = 3\n",
      "print((node_a.inputs_i))\n"
     ],
     "language": "python",
     "metadata": {},
     "outputs": [
      {
       "output_type": "stream",
       "stream": "stdout",
       "text": [
        "3\n"
       ]
      }
     ],
     "prompt_number": 184
    },
    {
     "cell_type": "code",
     "collapsed": false,
     "input": [
      "# OK: start a general network\n",
      "class generalNeuralNetwork:\n",
      "    \n",
      "    #initialise\n",
      "    def __init__(self, input_nodes,output_nodes,hidden_nodes,hidden_nodes_layers,learningrate):\n",
      "        self.inodes = input_nodes\n",
      "        self.onodes = output_nodes\n",
      "        self.hnodes = hidden_nodes\n",
      "        self.hidden_layers_order = hidden_nodes_layers\n",
      "        self.lr = learningrate\n",
      "        \n",
      "        ### new init method for generalised NN\n",
      "        #\n",
      "        # create n node layers (3 for testing)\n",
      "        # hardcode input (0th) as order 784\n",
      "        # hardcode final (nth) as order 10\n",
      "        # hardcode others as 100 for testing (function to assign as inverse decay thereafter)\n",
      "        # call init(previous_node_order,self_node_order) on layers[1] through [n-1] (e.g. not on layer[0] as it has no weight) to assign random initial weights\n",
      "        self.g_input__layer = generalNodeLayer(self.lr,self.inodes)# don't actually need input nodes as a full layer but feeling lazy\n",
      "        # add multiple hidden layers\n",
      "        self.hidden_layers = []\n",
      "        for i in range(0,self.hidden_layers_order):\n",
      "                anonymous_hidden_layer = generalNodeLayer(self.lr,self.hnodes)\n",
      "                self.hidden_layers.append(anonymous_hidden_layer)\n",
      "                pass\n",
      "        #self.g_hidden_layer = self.hidden_layers[0]\n",
      "        self.g_output_layer = generalNodeLayer(self.lr,self.onodes)\n",
      "        # assign starting weights\n",
      "        previous_layer_order = self.g_input__layer.node_count\n",
      "        for i in range(0,self.hidden_layers_order):\n",
      "            self.hidden_layers[i].assignStartingWeights(previous_layer_order)\n",
      "            # update previous layer order\n",
      "            previous_layer_order = self.hidden_layers[i].node_count\n",
      "            pass\n",
      "        self.g_output_layer.assignStartingWeights(self.hnodes)\n",
      "        self.network = (self.g_input__layer,self.hidden_layers[0],self.g_output_layer)\n",
      "        pass\n",
      "    \n",
      "\n",
      " \n",
      "    #train it\n",
      "    def trainAsNetwork(self, inputs_list, targets_list):\n",
      "        \n",
      "        ### new train method for generalised NN (e.g. error propagation back)\n",
      "        #\n",
      "        # hardcode calculations for final node layer\n",
      "        # call train on n-1 to 0th node layers\n",
      "        #\n",
      "        ###\n",
      "        \n",
      "        targets = numpy.array(targets_list, ndmin=2) .T        \n",
      "      \n",
      "        # we can actually propagate forward with the query() function, even the first time\n",
      "        self.queryAsNetwork(inputs_list)\n",
      "      \n",
      "        # calculate errors in turn, propagating back\n",
      "        output_errors = targets - self.g_output_layer.outputs_i\n",
      "        self.g_output_layer.errors_i = output_errors # hardcode\n",
      "\n",
      "        # iterate error propagation back through hidden layers\n",
      "        following_layer = self.g_output_layer\n",
      "        for i in range(self.hidden_layers_order-1,-1,-1):\n",
      "            self.hidden_layers[i].calculateErrors(following_layer)\n",
      "            following_layer = self.hidden_layers[i]\n",
      "            pass\n",
      "\n",
      "        # update weights, can be in any order but may as well go forwards\n",
      "        previous_layer = self.g_input__layer\n",
      "        for i in range(0,self.hidden_layers_order):\n",
      "            #print(\"weight update layer \",i)\n",
      "            self.hidden_layers[i].trainWeights(previous_layer)\n",
      "            previous_layer = self.hidden_layers[i]\n",
      "            pass\n",
      "        \n",
      "        self.g_output_layer.trainWeights(self.hidden_layers[self.hidden_layers_order-1])\n",
      "        pass\n",
      "    \n",
      "\n",
      "    #test it with data\n",
      "    def queryAsNetwork(self, inputs_list):\n",
      "        \n",
      "        ### new test / query method for generalised NN (e.g. output calculation forward)\n",
      "        #\n",
      "        # hardcode output of layer[0] (input) nodes as inputs\n",
      "        # iterate through node.query(input) on nodes layer[1..(n-1)]\n",
      "        inputs = numpy.array(inputs_list, ndmin=2) .T\n",
      "        self.g_input__layer.outputs_i = inputs\n",
      "        \n",
      "        \n",
      "        #hidden_inputs = numpy.dot(self.wih,inputs)\n",
      "        #hidden_outputs = self.activation_function(hidden_inputs)\n",
      "        previous_inputs = self.g_input__layer.outputs_i\n",
      "        for i in range(0,self.hidden_layers_order):\n",
      "            self.hidden_layers[i].query(previous_inputs)\n",
      "            previous_inputs = self.hidden_layers[i].outputs_i\n",
      "            pass\n",
      "        \n",
      "        #final_inputs = numpy.dot(self.who,hidden_outputs)\n",
      "        #final_outputs = self.activation_function(final_inputs)\n",
      "        self.g_output_layer.query(self.hidden_layers[self.hidden_layers_order-1].outputs_i)\n",
      "        \n",
      "        return self.g_output_layer.outputs_i\n",
      "    \n",
      "# do something\n",
      "g = generalNeuralNetwork(3,3,3,1,0.3)\n",
      "#print(g.query((1,10,100)))\n",
      "print(g.queryAsNetwork((1,10,100)))\n",
      "\n"
     ],
     "language": "python",
     "metadata": {},
     "outputs": [
      {
       "output_type": "stream",
       "stream": "stdout",
       "text": [
        "[[ 0.29088917]\n",
        " [ 0.60370721]\n",
        " [ 0.33027545]]\n"
       ]
      }
     ],
     "prompt_number": 213
    },
    {
     "cell_type": "code",
     "collapsed": false,
     "input": [
      "#try it (general network)\n",
      "input_node_order = 784\n",
      "output_node_order = 10\n",
      "hidden_node_order = 60\n",
      "hidden_node_layers = 3\n",
      "learning_rate = 0.3\n",
      "\n",
      "g = generalNeuralNetwork(\n",
      "    input_node_order,\n",
      "    output_node_order,\n",
      "    hidden_node_order,\n",
      "    hidden_node_layers,\n",
      "    learning_rate\n",
      "    )\n",
      "\n",
      "# load training\n",
      "# wget http://pjreddie.com/media/files/mnist_train.csv\n",
      "training_data_file = open(\"mnist_dataset/mnist_train.csv\",'r')\n",
      "training_data_list = training_data_file.readlines()\n",
      "training_data_file.close()\n",
      "\n",
      "# train\n",
      "for record in training_data_list:\n",
      "    all_values = record.split(',')\n",
      "    inputs = (numpy.asfarray(all_values[1:]) / (255.0 * 0.99)) + 0.01\n",
      "    targets = numpy.zeros(onodes) + 0.01\n",
      "    targets[int(all_values[0])]=0.99\n",
      "    g.trainAsNetwork(inputs,targets)\n",
      "    pass\n",
      "\n",
      "#load test\n",
      "# wget http://pjreddie.com/media/files/mnist_test.csv\n",
      "test_data_file = open(\"mnist_dataset/mnist_test.csv\",'r')\n",
      "test_data_list = test_data_file.readlines()\n",
      "test_data_file.close()\n",
      "\n",
      "# test the performance \n",
      "scores = []\n",
      "\n",
      "for record in test_data_list:\n",
      "    all_values = record.split(',')\n",
      "    answer = int(all_values[0])\n",
      "    inputs = (numpy.asfarray(all_values[1:]) / (255.0 * 0.99)) + 0.01\n",
      "    output = g.queryAsNetwork(inputs)\n",
      "    guess = numpy.argmax(output)\n",
      "    if(guess == answer):\n",
      "        scores.append(1)\n",
      "    else:\n",
      "        scores.append(0)\n",
      "        pass\n",
      "    pass\n",
      "\n",
      "score_array = numpy.asarray(scores)\n",
      "hits = score_array.sum() + 0.0\n",
      "trials = score_array.size + 0.0\n",
      "\n",
      "print(\"performance = \", (hits / trials))"
     ],
     "language": "python",
     "metadata": {},
     "outputs": [
      {
       "output_type": "stream",
       "stream": "stdout",
       "text": [
        "('performance = ', 0.89980000000000004)\n"
       ]
      }
     ],
     "prompt_number": 225
    },
    {
     "cell_type": "code",
     "collapsed": false,
     "input": [],
     "language": "python",
     "metadata": {},
     "outputs": [],
     "prompt_number": 225
    },
    {
     "cell_type": "code",
     "collapsed": false,
     "input": [],
     "language": "python",
     "metadata": {},
     "outputs": []
    }
   ],
   "metadata": {}
  }
 ]
}